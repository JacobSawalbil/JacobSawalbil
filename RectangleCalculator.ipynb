{
  "nbformat": 4,
  "nbformat_minor": 0,
  "metadata": {
    "colab": {
      "provenance": [],
      "authorship_tag": "ABX9TyNC+ygZCJGmJxCusCp2nWtn",
      "include_colab_link": true
    },
    "kernelspec": {
      "name": "python3",
      "display_name": "Python 3"
    },
    "language_info": {
      "name": "python"
    }
  },
  "cells": [
    {
      "cell_type": "markdown",
      "metadata": {
        "id": "view-in-github",
        "colab_type": "text"
      },
      "source": [
        "<a href=\"https://colab.research.google.com/github/JacobSawalbil/JacobSawalbil/blob/main/RectangleCalculator.ipynb\" target=\"_parent\"><img src=\"https://colab.research.google.com/assets/colab-badge.svg\" alt=\"Open In Colab\"/></a>"
      ]
    },
    {
      "cell_type": "code",
      "execution_count": 1,
      "metadata": {
        "colab": {
          "base_uri": "https://localhost:8080/"
        },
        "id": "KU1sCVEqP_dW",
        "outputId": "51a6d750-2e89-4546-9a25-82ad5fae9ff4"
      },
      "outputs": [
        {
          "output_type": "stream",
          "name": "stdout",
          "text": [
            "Rectangle Calculator\n",
            "1. Calculate Area\n",
            "2. Calculate Perimeter\n",
            "3. Calculate Diagonal\n",
            "4. Calculate All\n",
            "5. Quit\n",
            "Enter your choice (1/2/3/4/5): 1\n",
            "Enter length: 4\n",
            "Enter width: 5\n",
            "Area: 20.0\n",
            "Enter your choice (1/2/3/4/5): 4\n",
            "Enter length: 2\n",
            "Enter width: 3\n",
            "Area: 6.0\n",
            "Perimeter: 10.0\n",
            "Diagonal: 3.605551275463989\n",
            "Enter your choice (1/2/3/4/5): 5\n",
            "Goodbye!\n"
          ]
        }
      ],
      "source": [
        "import math\n",
        "\n",
        "def rectangle_calculator():\n",
        "    print(\"Rectangle Calculator\")\n",
        "    print(\"1. Calculate Area\")\n",
        "    print(\"2. Calculate Perimeter\")\n",
        "    print(\"3. Calculate Diagonal\")\n",
        "    print(\"4. Calculate All\")\n",
        "    print(\"5. Quit\")\n",
        "\n",
        "    while True:\n",
        "        choice = input(\"Enter your choice (1/2/3/4/5): \")\n",
        "\n",
        "        if choice == \"5\":\n",
        "            print(\"Goodbye!\")\n",
        "            break\n",
        "\n",
        "        length = float(input(\"Enter length: \"))\n",
        "        width = float(input(\"Enter width: \"))\n",
        "\n",
        "        if choice == \"1\":\n",
        "            area = length * width\n",
        "            print(f\"Area: {area}\")\n",
        "        elif choice == \"2\":\n",
        "            perimeter = 2 * (length + width)\n",
        "            print(f\"Perimeter: {perimeter}\")\n",
        "        elif choice == \"3\":\n",
        "            diagonal = math.sqrt(length**2 + width**2)\n",
        "            print(f\"Diagonal: {diagonal}\")\n",
        "        elif choice == \"4\":\n",
        "            area = length * width\n",
        "            perimeter = 2 * (length + width)\n",
        "            diagonal = math.sqrt(length**2 + width**2)\n",
        "            print(f\"Area: {area}\")\n",
        "            print(f\"Perimeter: {perimeter}\")\n",
        "            print(f\"Diagonal: {diagonal}\")\n",
        "        else:\n",
        "            print(\"Invalid choice. Please try again.\")\n",
        "\n",
        "rectangle_calculator()"
      ]
    }
  ]
}